{
  "nbformat": 4,
  "nbformat_minor": 0,
  "metadata": {
    "colab": {
      "name": "movie review sentiment analysis.ipynb",
      "provenance": [],
      "collapsed_sections": [],
      "mount_file_id": "1tcxC6Pm-wW6KfozXoJgR2QsEQexYohyZ",
      "authorship_tag": "ABX9TyOF6nryzI6msjGHN9ji/AjU",
      "include_colab_link": true
    },
    "kernelspec": {
      "name": "python3",
      "display_name": "Python 3"
    }
  },
  "cells": [
    {
      "cell_type": "markdown",
      "metadata": {
        "id": "view-in-github",
        "colab_type": "text"
      },
      "source": [
        "<a href=\"https://colab.research.google.com/github/AndrewPrasaath/Movie-Review-Sentiment-analysis/blob/master/movie_review_sentiment_analysis.ipynb\" target=\"_parent\"><img src=\"https://colab.research.google.com/assets/colab-badge.svg\" alt=\"Open In Colab\"/></a>"
      ]
    },
    {
      "cell_type": "markdown",
      "metadata": {
        "id": "2QtOWrKP4BVo",
        "colab_type": "text"
      },
      "source": [
        "**Importing essential libraries**"
      ]
    },
    {
      "cell_type": "code",
      "metadata": {
        "id": "viM4wgT0337M",
        "colab_type": "code",
        "colab": {
          "base_uri": "https://localhost:8080/",
          "height": 70
        },
        "outputId": "edfab0ec-049f-4cbc-bf0b-e1b229428bb4"
      },
      "source": [
        "import pandas as pd\n",
        "import matplotlib.pyplot as plt\n",
        "from sklearn.model_selection import train_test_split\n",
        "from sklearn.pipeline import Pipeline\n",
        "from sklearn.feature_extraction.text import TfidfVectorizer\n",
        "from sklearn.naive_bayes import MultinomialNB\n",
        "from sklearn.metrics import accuracy_score, confusion_matrix, classification_report\n",
        "\n",
        "!pip install wordcloud\n",
        "from wordcloud import WordCloud, STOPWORDS"
      ],
      "execution_count": 46,
      "outputs": [
        {
          "output_type": "stream",
          "text": [
            "Requirement already satisfied: wordcloud in /usr/local/lib/python3.6/dist-packages (1.5.0)\n",
            "Requirement already satisfied: pillow in /usr/local/lib/python3.6/dist-packages (from wordcloud) (7.0.0)\n",
            "Requirement already satisfied: numpy>=1.6.1 in /usr/local/lib/python3.6/dist-packages (from wordcloud) (1.18.5)\n"
          ],
          "name": "stdout"
        }
      ]
    },
    {
      "cell_type": "markdown",
      "metadata": {
        "id": "cwsVhD_j4I6n",
        "colab_type": "text"
      },
      "source": [
        "**Creating dataframe**"
      ]
    },
    {
      "cell_type": "code",
      "metadata": {
        "id": "Vfh-2d7RtKKR",
        "colab_type": "code",
        "colab": {
          "base_uri": "https://localhost:8080/",
          "height": 340
        },
        "outputId": "11a5b7e0-4279-4d56-ed28-7d804a4e1446"
      },
      "source": [
        "#loading the data\n",
        "movie_review_data = pd.read_table('/content/drive/My Drive/Smartknowers major project/SmartKnowers major project - movie review sentiment analysis/movie review.tsv')\n",
        "movie_review_data.head(10)"
      ],
      "execution_count": 47,
      "outputs": [
        {
          "output_type": "execute_result",
          "data": {
            "text/html": [
              "<div>\n",
              "<style scoped>\n",
              "    .dataframe tbody tr th:only-of-type {\n",
              "        vertical-align: middle;\n",
              "    }\n",
              "\n",
              "    .dataframe tbody tr th {\n",
              "        vertical-align: top;\n",
              "    }\n",
              "\n",
              "    .dataframe thead th {\n",
              "        text-align: right;\n",
              "    }\n",
              "</style>\n",
              "<table border=\"1\" class=\"dataframe\">\n",
              "  <thead>\n",
              "    <tr style=\"text-align: right;\">\n",
              "      <th></th>\n",
              "      <th>fold_id</th>\n",
              "      <th>cv_tag</th>\n",
              "      <th>html_id</th>\n",
              "      <th>sent_id</th>\n",
              "      <th>text</th>\n",
              "      <th>tag</th>\n",
              "    </tr>\n",
              "  </thead>\n",
              "  <tbody>\n",
              "    <tr>\n",
              "      <th>0</th>\n",
              "      <td>0</td>\n",
              "      <td>cv000</td>\n",
              "      <td>29590</td>\n",
              "      <td>0</td>\n",
              "      <td>films adapted from comic books have had plenty...</td>\n",
              "      <td>pos</td>\n",
              "    </tr>\n",
              "    <tr>\n",
              "      <th>1</th>\n",
              "      <td>0</td>\n",
              "      <td>cv000</td>\n",
              "      <td>29590</td>\n",
              "      <td>1</td>\n",
              "      <td>for starters , it was created by alan moore ( ...</td>\n",
              "      <td>pos</td>\n",
              "    </tr>\n",
              "    <tr>\n",
              "      <th>2</th>\n",
              "      <td>0</td>\n",
              "      <td>cv000</td>\n",
              "      <td>29590</td>\n",
              "      <td>2</td>\n",
              "      <td>to say moore and campbell thoroughly researche...</td>\n",
              "      <td>pos</td>\n",
              "    </tr>\n",
              "    <tr>\n",
              "      <th>3</th>\n",
              "      <td>0</td>\n",
              "      <td>cv000</td>\n",
              "      <td>29590</td>\n",
              "      <td>3</td>\n",
              "      <td>the book ( or \" graphic novel , \" if you will ...</td>\n",
              "      <td>pos</td>\n",
              "    </tr>\n",
              "    <tr>\n",
              "      <th>4</th>\n",
              "      <td>0</td>\n",
              "      <td>cv000</td>\n",
              "      <td>29590</td>\n",
              "      <td>4</td>\n",
              "      <td>in other words , don't dismiss this film becau...</td>\n",
              "      <td>pos</td>\n",
              "    </tr>\n",
              "    <tr>\n",
              "      <th>5</th>\n",
              "      <td>0</td>\n",
              "      <td>cv000</td>\n",
              "      <td>29590</td>\n",
              "      <td>5</td>\n",
              "      <td>if you can get past the whole comic book thing...</td>\n",
              "      <td>pos</td>\n",
              "    </tr>\n",
              "    <tr>\n",
              "      <th>6</th>\n",
              "      <td>0</td>\n",
              "      <td>cv000</td>\n",
              "      <td>29590</td>\n",
              "      <td>6</td>\n",
              "      <td>getting the hughes brothers to direct this see...</td>\n",
              "      <td>pos</td>\n",
              "    </tr>\n",
              "    <tr>\n",
              "      <th>7</th>\n",
              "      <td>0</td>\n",
              "      <td>cv000</td>\n",
              "      <td>29590</td>\n",
              "      <td>7</td>\n",
              "      <td>the ghetto in question is , of course , whitec...</td>\n",
              "      <td>pos</td>\n",
              "    </tr>\n",
              "    <tr>\n",
              "      <th>8</th>\n",
              "      <td>0</td>\n",
              "      <td>cv000</td>\n",
              "      <td>29590</td>\n",
              "      <td>8</td>\n",
              "      <td>it's a filthy , sooty place where the whores (...</td>\n",
              "      <td>pos</td>\n",
              "    </tr>\n",
              "    <tr>\n",
              "      <th>9</th>\n",
              "      <td>0</td>\n",
              "      <td>cv000</td>\n",
              "      <td>29590</td>\n",
              "      <td>9</td>\n",
              "      <td>when the first stiff turns up , copper peter g...</td>\n",
              "      <td>pos</td>\n",
              "    </tr>\n",
              "  </tbody>\n",
              "</table>\n",
              "</div>"
            ],
            "text/plain": [
              "   fold_id cv_tag  ...                                               text  tag\n",
              "0        0  cv000  ...  films adapted from comic books have had plenty...  pos\n",
              "1        0  cv000  ...  for starters , it was created by alan moore ( ...  pos\n",
              "2        0  cv000  ...  to say moore and campbell thoroughly researche...  pos\n",
              "3        0  cv000  ...  the book ( or \" graphic novel , \" if you will ...  pos\n",
              "4        0  cv000  ...  in other words , don't dismiss this film becau...  pos\n",
              "5        0  cv000  ...  if you can get past the whole comic book thing...  pos\n",
              "6        0  cv000  ...  getting the hughes brothers to direct this see...  pos\n",
              "7        0  cv000  ...  the ghetto in question is , of course , whitec...  pos\n",
              "8        0  cv000  ...  it's a filthy , sooty place where the whores (...  pos\n",
              "9        0  cv000  ...  when the first stiff turns up , copper peter g...  pos\n",
              "\n",
              "[10 rows x 6 columns]"
            ]
          },
          "metadata": {
            "tags": []
          },
          "execution_count": 47
        }
      ]
    },
    {
      "cell_type": "code",
      "metadata": {
        "id": "WCzpOzX1uORU",
        "colab_type": "code",
        "colab": {
          "base_uri": "https://localhost:8080/",
          "height": 340
        },
        "outputId": "c3178b8e-ac7e-4405-d0f7-7970900c7117"
      },
      "source": [
        "#droping unwanted columns\n",
        "movie_review_data.drop(['fold_id', 'cv_tag', 'html_id', 'sent_id'], axis=1, inplace=True)\n",
        "movie_review_data.head(10)"
      ],
      "execution_count": 48,
      "outputs": [
        {
          "output_type": "execute_result",
          "data": {
            "text/html": [
              "<div>\n",
              "<style scoped>\n",
              "    .dataframe tbody tr th:only-of-type {\n",
              "        vertical-align: middle;\n",
              "    }\n",
              "\n",
              "    .dataframe tbody tr th {\n",
              "        vertical-align: top;\n",
              "    }\n",
              "\n",
              "    .dataframe thead th {\n",
              "        text-align: right;\n",
              "    }\n",
              "</style>\n",
              "<table border=\"1\" class=\"dataframe\">\n",
              "  <thead>\n",
              "    <tr style=\"text-align: right;\">\n",
              "      <th></th>\n",
              "      <th>text</th>\n",
              "      <th>tag</th>\n",
              "    </tr>\n",
              "  </thead>\n",
              "  <tbody>\n",
              "    <tr>\n",
              "      <th>0</th>\n",
              "      <td>films adapted from comic books have had plenty...</td>\n",
              "      <td>pos</td>\n",
              "    </tr>\n",
              "    <tr>\n",
              "      <th>1</th>\n",
              "      <td>for starters , it was created by alan moore ( ...</td>\n",
              "      <td>pos</td>\n",
              "    </tr>\n",
              "    <tr>\n",
              "      <th>2</th>\n",
              "      <td>to say moore and campbell thoroughly researche...</td>\n",
              "      <td>pos</td>\n",
              "    </tr>\n",
              "    <tr>\n",
              "      <th>3</th>\n",
              "      <td>the book ( or \" graphic novel , \" if you will ...</td>\n",
              "      <td>pos</td>\n",
              "    </tr>\n",
              "    <tr>\n",
              "      <th>4</th>\n",
              "      <td>in other words , don't dismiss this film becau...</td>\n",
              "      <td>pos</td>\n",
              "    </tr>\n",
              "    <tr>\n",
              "      <th>5</th>\n",
              "      <td>if you can get past the whole comic book thing...</td>\n",
              "      <td>pos</td>\n",
              "    </tr>\n",
              "    <tr>\n",
              "      <th>6</th>\n",
              "      <td>getting the hughes brothers to direct this see...</td>\n",
              "      <td>pos</td>\n",
              "    </tr>\n",
              "    <tr>\n",
              "      <th>7</th>\n",
              "      <td>the ghetto in question is , of course , whitec...</td>\n",
              "      <td>pos</td>\n",
              "    </tr>\n",
              "    <tr>\n",
              "      <th>8</th>\n",
              "      <td>it's a filthy , sooty place where the whores (...</td>\n",
              "      <td>pos</td>\n",
              "    </tr>\n",
              "    <tr>\n",
              "      <th>9</th>\n",
              "      <td>when the first stiff turns up , copper peter g...</td>\n",
              "      <td>pos</td>\n",
              "    </tr>\n",
              "  </tbody>\n",
              "</table>\n",
              "</div>"
            ],
            "text/plain": [
              "                                                text  tag\n",
              "0  films adapted from comic books have had plenty...  pos\n",
              "1  for starters , it was created by alan moore ( ...  pos\n",
              "2  to say moore and campbell thoroughly researche...  pos\n",
              "3  the book ( or \" graphic novel , \" if you will ...  pos\n",
              "4  in other words , don't dismiss this film becau...  pos\n",
              "5  if you can get past the whole comic book thing...  pos\n",
              "6  getting the hughes brothers to direct this see...  pos\n",
              "7  the ghetto in question is , of course , whitec...  pos\n",
              "8  it's a filthy , sooty place where the whores (...  pos\n",
              "9  when the first stiff turns up , copper peter g...  pos"
            ]
          },
          "metadata": {
            "tags": []
          },
          "execution_count": 48
        }
      ]
    },
    {
      "cell_type": "code",
      "metadata": {
        "id": "WDCVJaCMu6ms",
        "colab_type": "code",
        "colab": {
          "base_uri": "https://localhost:8080/",
          "height": 340
        },
        "outputId": "4768d1cb-a04f-4f2a-a7e8-35f784c7c88b"
      },
      "source": [
        "#shuffling the data\n",
        "movie_review_data = movie_review_data.sample(frac=1)\n",
        "movie_review_data.head(10)"
      ],
      "execution_count": 49,
      "outputs": [
        {
          "output_type": "execute_result",
          "data": {
            "text/html": [
              "<div>\n",
              "<style scoped>\n",
              "    .dataframe tbody tr th:only-of-type {\n",
              "        vertical-align: middle;\n",
              "    }\n",
              "\n",
              "    .dataframe tbody tr th {\n",
              "        vertical-align: top;\n",
              "    }\n",
              "\n",
              "    .dataframe thead th {\n",
              "        text-align: right;\n",
              "    }\n",
              "</style>\n",
              "<table border=\"1\" class=\"dataframe\">\n",
              "  <thead>\n",
              "    <tr style=\"text-align: right;\">\n",
              "      <th></th>\n",
              "      <th>text</th>\n",
              "      <th>tag</th>\n",
              "    </tr>\n",
              "  </thead>\n",
              "  <tbody>\n",
              "    <tr>\n",
              "      <th>51038</th>\n",
              "      <td>it's great !</td>\n",
              "      <td>neg</td>\n",
              "    </tr>\n",
              "    <tr>\n",
              "      <th>58247</th>\n",
              "      <td>i forgot to mention the prologue .</td>\n",
              "      <td>neg</td>\n",
              "    </tr>\n",
              "    <tr>\n",
              "      <th>62924</th>\n",
              "      <td>when they discover that nixon ( another dead-o...</td>\n",
              "      <td>neg</td>\n",
              "    </tr>\n",
              "    <tr>\n",
              "      <th>60223</th>\n",
              "      <td>-ed . ]</td>\n",
              "      <td>neg</td>\n",
              "    </tr>\n",
              "    <tr>\n",
              "      <th>20121</th>\n",
              "      <td>the story moves well , and before you know it ...</td>\n",
              "      <td>pos</td>\n",
              "    </tr>\n",
              "    <tr>\n",
              "      <th>45334</th>\n",
              "      <td>what this film needs to be is a lot longer , a...</td>\n",
              "      <td>neg</td>\n",
              "    </tr>\n",
              "    <tr>\n",
              "      <th>29407</th>\n",
              "      <td>also there is a fair bit of action in the film...</td>\n",
              "      <td>pos</td>\n",
              "    </tr>\n",
              "    <tr>\n",
              "      <th>12155</th>\n",
              "      <td>after the feature , which runs about 63 minute...</td>\n",
              "      <td>pos</td>\n",
              "    </tr>\n",
              "    <tr>\n",
              "      <th>43601</th>\n",
              "      <td>the film involves a mysterious briefcase , tha...</td>\n",
              "      <td>neg</td>\n",
              "    </tr>\n",
              "    <tr>\n",
              "      <th>15125</th>\n",
              "      <td>as an attack occurs , the front-page headline ...</td>\n",
              "      <td>pos</td>\n",
              "    </tr>\n",
              "  </tbody>\n",
              "</table>\n",
              "</div>"
            ],
            "text/plain": [
              "                                                    text  tag\n",
              "51038                                       it's great !  neg\n",
              "58247                 i forgot to mention the prologue .  neg\n",
              "62924  when they discover that nixon ( another dead-o...  neg\n",
              "60223                                            -ed . ]  neg\n",
              "20121  the story moves well , and before you know it ...  pos\n",
              "45334  what this film needs to be is a lot longer , a...  neg\n",
              "29407  also there is a fair bit of action in the film...  pos\n",
              "12155  after the feature , which runs about 63 minute...  pos\n",
              "43601  the film involves a mysterious briefcase , tha...  neg\n",
              "15125  as an attack occurs , the front-page headline ...  pos"
            ]
          },
          "metadata": {
            "tags": []
          },
          "execution_count": 49
        }
      ]
    },
    {
      "cell_type": "markdown",
      "metadata": {
        "id": "BYOX28nQ7KLL",
        "colab_type": "text"
      },
      "source": [
        "**Giving insights about the data**"
      ]
    },
    {
      "cell_type": "code",
      "metadata": {
        "id": "70M8WyzFvKoT",
        "colab_type": "code",
        "colab": {
          "base_uri": "https://localhost:8080/",
          "height": 177
        },
        "outputId": "73aad1a7-0400-4f66-8161-88cdbed13492"
      },
      "source": [
        "movie_review_data.info()"
      ],
      "execution_count": 50,
      "outputs": [
        {
          "output_type": "stream",
          "text": [
            "<class 'pandas.core.frame.DataFrame'>\n",
            "Int64Index: 64471 entries, 51038 to 9358\n",
            "Data columns (total 2 columns):\n",
            " #   Column  Non-Null Count  Dtype \n",
            "---  ------  --------------  ----- \n",
            " 0   text    64471 non-null  object\n",
            " 1   tag     64471 non-null  object\n",
            "dtypes: object(2)\n",
            "memory usage: 1.5+ MB\n"
          ],
          "name": "stdout"
        }
      ]
    },
    {
      "cell_type": "code",
      "metadata": {
        "id": "7mBM0JmZvYt0",
        "colab_type": "code",
        "colab": {
          "base_uri": "https://localhost:8080/",
          "height": 164
        },
        "outputId": "2e9e2fe9-5809-493c-864b-f8836c25408c"
      },
      "source": [
        "movie_review_data.describe()"
      ],
      "execution_count": 51,
      "outputs": [
        {
          "output_type": "execute_result",
          "data": {
            "text/html": [
              "<div>\n",
              "<style scoped>\n",
              "    .dataframe tbody tr th:only-of-type {\n",
              "        vertical-align: middle;\n",
              "    }\n",
              "\n",
              "    .dataframe tbody tr th {\n",
              "        vertical-align: top;\n",
              "    }\n",
              "\n",
              "    .dataframe thead th {\n",
              "        text-align: right;\n",
              "    }\n",
              "</style>\n",
              "<table border=\"1\" class=\"dataframe\">\n",
              "  <thead>\n",
              "    <tr style=\"text-align: right;\">\n",
              "      <th></th>\n",
              "      <th>text</th>\n",
              "      <th>tag</th>\n",
              "    </tr>\n",
              "  </thead>\n",
              "  <tbody>\n",
              "    <tr>\n",
              "      <th>count</th>\n",
              "      <td>64471</td>\n",
              "      <td>64471</td>\n",
              "    </tr>\n",
              "    <tr>\n",
              "      <th>unique</th>\n",
              "      <td>63403</td>\n",
              "      <td>2</td>\n",
              "    </tr>\n",
              "    <tr>\n",
              "      <th>top</th>\n",
              "      <td>.</td>\n",
              "      <td>pos</td>\n",
              "    </tr>\n",
              "    <tr>\n",
              "      <th>freq</th>\n",
              "      <td>123</td>\n",
              "      <td>32754</td>\n",
              "    </tr>\n",
              "  </tbody>\n",
              "</table>\n",
              "</div>"
            ],
            "text/plain": [
              "         text    tag\n",
              "count   64471  64471\n",
              "unique  63403      2\n",
              "top         .    pos\n",
              "freq      123  32754"
            ]
          },
          "metadata": {
            "tags": []
          },
          "execution_count": 51
        }
      ]
    },
    {
      "cell_type": "code",
      "metadata": {
        "id": "ObgPC35dvhRj",
        "colab_type": "code",
        "colab": {
          "base_uri": "https://localhost:8080/",
          "height": 70
        },
        "outputId": "0c95d751-aa11-4519-a074-2164b84bca6f"
      },
      "source": [
        "movie_review_data['tag'].value_counts()\n"
      ],
      "execution_count": 52,
      "outputs": [
        {
          "output_type": "execute_result",
          "data": {
            "text/plain": [
              "pos    32754\n",
              "neg    31717\n",
              "Name: tag, dtype: int64"
            ]
          },
          "metadata": {
            "tags": []
          },
          "execution_count": 52
        }
      ]
    },
    {
      "cell_type": "markdown",
      "metadata": {
        "id": "FZVGnNAk4f2x",
        "colab_type": "text"
      },
      "source": [
        "**Visualization**"
      ]
    },
    {
      "cell_type": "code",
      "metadata": {
        "id": "bcYCSP6ov4Ok",
        "colab_type": "code",
        "colab": {
          "base_uri": "https://localhost:8080/",
          "height": 265
        },
        "outputId": "ca1c45a2-8701-4e15-e603-258c7695b7cf"
      },
      "source": [
        "#creating labels and langs for bar chart\n",
        "tag_names = movie_review_data['tag'].value_counts().keys().tolist()\n",
        "tag_counts = movie_review_data['tag'].value_counts().tolist()\n",
        "#plotting bar chart\n",
        "plt.bar(tag_names, tag_counts, color = ('g','r'))\n",
        "plt.show()"
      ],
      "execution_count": 53,
      "outputs": [
        {
          "output_type": "display_data",
          "data": {
            "image/png": "[encoded data removed]",
            "text/plain": [
              "<Figure size 432x288 with 1 Axes>"
            ]
          },
          "metadata": {
            "tags": [],
            "needs_background": "light"
          }
        }
      ]
    },
    {
      "cell_type": "code",
      "metadata": {
        "id": "JrHDndxQcerY",
        "colab_type": "code",
        "colab": {
          "base_uri": "https://localhost:8080/",
          "height": 236
        },
        "outputId": "1af3b5bd-bd97-46f8-cf80-ed58562a4881"
      },
      "source": [
        "#wordcloud visualization\n",
        "text=\" \"\n",
        "stopwords=set(STOPWORDS)\n",
        "stopwords.add('br')\n",
        "for rev in movie_review_data.text:\n",
        "  rev=str(rev)\n",
        "  array=rev.split()\n",
        "  for i in range(len(array)):\n",
        "    array[i]=array[i].lower()\n",
        "\n",
        "  text += \" \" .join(array) + \" \"\n",
        "\n",
        "print(len(text))\n",
        "\n",
        "wordcloud=WordCloud(stopwords=stopwords,scale=2,collocations=False,background_color='white').generate(text)\n",
        "plt.imshow(wordcloud)\n",
        "plt.show()\n"
      ],
      "execution_count": 54,
      "outputs": [
        {
          "output_type": "stream",
          "text": [
            "7719397\n"
          ],
          "name": "stdout"
        },
        {
          "output_type": "display_data",
          "data": {
            "image/png": "[encoded data removed]",
            "text/plain": [
              "<Figure size 432x288 with 1 Axes>"
            ]
          },
          "metadata": {
            "tags": [],
            "needs_background": "light"
          }
        }
      ]
    },
    {
      "cell_type": "markdown",
      "metadata": {
        "id": "h2CSEbpv4p2X",
        "colab_type": "text"
      },
      "source": [
        "**Dividing into input and output and then split it into train and test data**"
      ]
    },
    {
      "cell_type": "code",
      "metadata": {
        "id": "v6kL4-biw39E",
        "colab_type": "code",
        "colab": {
          "base_uri": "https://localhost:8080/",
          "height": 52
        },
        "outputId": "44e4e26a-b625-4032-9e41-9fe95c53ff6f"
      },
      "source": [
        "#input and output\n",
        "x = movie_review_data.iloc[:,0].values\n",
        "y = movie_review_data.iloc[:,1].values\n",
        "\n",
        "#spliting into train & test data\n",
        "x_train, x_test, y_train, y_test = train_test_split(x,y, test_size = 0.3, random_state = 0)\n",
        "print(x_train.shape)\n",
        "print(x_test.shape)"
      ],
      "execution_count": 55,
      "outputs": [
        {
          "output_type": "stream",
          "text": [
            "(45129,)\n",
            "(19342,)\n"
          ],
          "name": "stdout"
        }
      ]
    },
    {
      "cell_type": "markdown",
      "metadata": {
        "id": "mryVLjdS5BNg",
        "colab_type": "text"
      },
      "source": [
        "**Convert text input into numerical and fitting ML model (creating pipline)**"
      ]
    },
    {
      "cell_type": "code",
      "metadata": {
        "id": "4ZF1D9Ipz8dv",
        "colab_type": "code",
        "colab": {
          "base_uri": "https://localhost:8080/",
          "height": 319
        },
        "outputId": "21663a5a-42b5-497e-96db-1a53f00dd03a"
      },
      "source": [
        "#pipline creationg\n",
        "review_model = Pipeline([('tfidf',TfidfVectorizer()),('model',MultinomialNB())])\n",
        "#fitting the model\n",
        "review_model.fit(x_train,y_train)"
      ],
      "execution_count": 56,
      "outputs": [
        {
          "output_type": "execute_result",
          "data": {
            "text/plain": [
              "Pipeline(memory=None,\n",
              "         steps=[('tfidf',\n",
              "                 TfidfVectorizer(analyzer='word', binary=False,\n",
              "                                 decode_error='strict',\n",
              "                                 dtype=<class 'numpy.float64'>,\n",
              "                                 encoding='utf-8', input='content',\n",
              "                                 lowercase=True, max_df=1.0, max_features=None,\n",
              "                                 min_df=1, ngram_range=(1, 1), norm='l2',\n",
              "                                 preprocessor=None, smooth_idf=True,\n",
              "                                 stop_words=None, strip_accents=None,\n",
              "                                 sublinear_tf=False,\n",
              "                                 token_pattern='(?u)\\\\b\\\\w\\\\w+\\\\b',\n",
              "                                 tokenizer=None, use_idf=True,\n",
              "                                 vocabulary=None)),\n",
              "                ('model',\n",
              "                 MultinomialNB(alpha=1.0, class_prior=None, fit_prior=True))],\n",
              "         verbose=False)"
            ]
          },
          "metadata": {
            "tags": []
          },
          "execution_count": 56
        }
      ]
    },
    {
      "cell_type": "markdown",
      "metadata": {
        "id": "KprejEQX5yzH",
        "colab_type": "text"
      },
      "source": [
        "**Predicting the output using test data and comparing with original test output data**"
      ]
    },
    {
      "cell_type": "code",
      "metadata": {
        "id": "mBf1z9Vs1xU4",
        "colab_type": "code",
        "colab": {
          "base_uri": "https://localhost:8080/",
          "height": 52
        },
        "outputId": "e89cd7f0-7cef-419e-a25c-855b5e69c432"
      },
      "source": [
        "y_pred = review_model.predict(x_test)\n",
        "print(y_pred)\n",
        "print(y_test)"
      ],
      "execution_count": 57,
      "outputs": [
        {
          "output_type": "stream",
          "text": [
            "['pos' 'neg' 'neg' ... 'pos' 'neg' 'neg']\n",
            "['pos' 'neg' 'neg' ... 'pos' 'pos' 'neg']\n"
          ],
          "name": "stdout"
        }
      ]
    },
    {
      "cell_type": "markdown",
      "metadata": {
        "id": "LbMAXxFb5-mj",
        "colab_type": "text"
      },
      "source": [
        "**Evaluation of the model**"
      ]
    },
    {
      "cell_type": "code",
      "metadata": {
        "id": "W1uJYHQt2JuE",
        "colab_type": "code",
        "colab": {
          "base_uri": "https://localhost:8080/",
          "height": 35
        },
        "outputId": "ab216be2-490a-4702-f7e5-359d2bcf4a32"
      },
      "source": [
        "#Accuracy \n",
        "accuracy_score(y_pred, y_test)*100"
      ],
      "execution_count": 58,
      "outputs": [
        {
          "output_type": "execute_result",
          "data": {
            "text/plain": [
              "70.9905904249819"
            ]
          },
          "metadata": {
            "tags": []
          },
          "execution_count": 58
        }
      ]
    },
    {
      "cell_type": "code",
      "metadata": {
        "id": "xKjq7hio2WjU",
        "colab_type": "code",
        "colab": {
          "base_uri": "https://localhost:8080/",
          "height": 52
        },
        "outputId": "3ffd4f81-49c1-4eb0-e54e-a17a9d4c1e41"
      },
      "source": [
        "#confusion matrix\n",
        "confusion_matrix(y_pred, y_test)"
      ],
      "execution_count": 59,
      "outputs": [
        {
          "output_type": "execute_result",
          "data": {
            "text/plain": [
              "array([[6433, 2534],\n",
              "       [3077, 7298]])"
            ]
          },
          "metadata": {
            "tags": []
          },
          "execution_count": 59
        }
      ]
    },
    {
      "cell_type": "code",
      "metadata": {
        "id": "X8l7AXRy2da8",
        "colab_type": "code",
        "colab": {
          "base_uri": "https://localhost:8080/",
          "height": 177
        },
        "outputId": "3b118b27-2e64-4562-8cbe-de8a00eecc19"
      },
      "source": [
        "#Classification report\n",
        "print(classification_report(y_pred, y_test))"
      ],
      "execution_count": 60,
      "outputs": [
        {
          "output_type": "stream",
          "text": [
            "              precision    recall  f1-score   support\n",
            "\n",
            "         neg       0.68      0.72      0.70      8967\n",
            "         pos       0.74      0.70      0.72     10375\n",
            "\n",
            "    accuracy                           0.71     19342\n",
            "   macro avg       0.71      0.71      0.71     19342\n",
            "weighted avg       0.71      0.71      0.71     19342\n",
            "\n"
          ],
          "name": "stdout"
        }
      ]
    },
    {
      "cell_type": "markdown",
      "metadata": {
        "id": "h2ivnylE6QTn",
        "colab_type": "text"
      },
      "source": [
        "**Testing the model with own text**"
      ]
    },
    {
      "cell_type": "code",
      "metadata": {
        "id": "ainIlWKr2ls8",
        "colab_type": "code",
        "colab": {
          "base_uri": "https://localhost:8080/",
          "height": 52
        },
        "outputId": "eb89dfeb-1947-42d7-d2bf-8b6751159d1b"
      },
      "source": [
        "#positve comment\n",
        "print(review_model.predict(['i really loved this movie, especially the climax']))\n",
        "#negative comment\n",
        "print(review_model.predict(['the acting of the hero is ridiculous and the climax is not upto expectation']))"
      ],
      "execution_count": 61,
      "outputs": [
        {
          "output_type": "stream",
          "text": [
            "['pos']\n",
            "['neg']\n"
          ],
          "name": "stdout"
        }
      ]
    }
  ]
}